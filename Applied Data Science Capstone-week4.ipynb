{
 "cells": [
  {
   "cell_type": "markdown",
   "metadata": {},
   "source": [
    "# Which city is best for a Pub Crawl?\n",
    "\n",
    "## Introduction/Business Problem\n",
    "\n",
    "You want to make a vacation and have a good Pub Crawl, but where to go? (Target audience: tourists, students…)\n",
    "\n",
    "OR: You want to open a hostel and offer a great Pub Crawl, but where to open it? (Target audience: Hostels, activity providers like Tripadvisor)\n",
    "\n",
    "Manhattan (New York), Toronto, Berlin or Munich\n",
    "\n",
    "To solve these problems, I want to find all Pubs in a 1km radius around city center (city center from geolocator). The number of requests to Foursquare is limited, so if the number of pubs is too high I will reduce the radius if needed.\n",
    "\n",
    "Then I’ll take the best 7 pubs of town and add the rating for a total “Pub Rating” of the city. In addition, the total number of venues will also be included.\n",
    "\n",
    "Finally, the winning city plan will be displayed with the seven best pubs to have a map ready for a pub crawl.\n",
    "\n",
    "Furthermore, very interesting would be to calculate the best route (travelling salesman problem) but that would be too much for this project\n",
    "\n"
   ]
  },
  {
   "cell_type": "markdown",
   "metadata": {},
   "source": [
    "## Data\n",
    "\n",
    "Four dataframes consisting of the best seven pubs respectively in the cities of: Manhattan (New York), Toronto, Berlin or Munich."
   ]
  },
  {
   "cell_type": "code",
   "execution_count": null,
   "metadata": {},
   "outputs": [],
   "source": []
  }
 ],
 "metadata": {
  "kernelspec": {
   "display_name": "Python",
   "language": "python",
   "name": "conda-env-python-py"
  },
  "language_info": {
   "codemirror_mode": {
    "name": "ipython",
    "version": 3
   },
   "file_extension": ".py",
   "mimetype": "text/x-python",
   "name": "python",
   "nbconvert_exporter": "python",
   "pygments_lexer": "ipython3",
   "version": "3.6.12"
  }
 },
 "nbformat": 4,
 "nbformat_minor": 4
}
